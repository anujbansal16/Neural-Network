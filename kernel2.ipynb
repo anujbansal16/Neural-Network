{
  "cells": [
    {
      "metadata": {
        "_uuid": "5b6fe18165db2e3add5bcb8f833fa86cdc3d6e94"
      },
      "cell_type": "markdown",
      "source": "# Assignment-5"
    },
    {
      "metadata": {
        "_uuid": "d32a6f32c3f360ebdf59a16e7757a34c9581c7b1"
      },
      "cell_type": "markdown",
      "source": "### Import necessary libraries"
    },
    {
      "metadata": {
        "colab": {},
        "colab_type": "code",
        "id": "DlYwwlVNYTQJ",
        "trusted": true,
        "_uuid": "d78c30fb1ae3fbe28508c51b0388e9a6e7ac1f54"
      },
      "cell_type": "code",
      "source": "import pandas as pd\nimport numpy as np\nimport matplotlib.pyplot as plt\nfrom IPython.display import HTML\nimport base64",
      "execution_count": 8,
      "outputs": []
    },
    {
      "metadata": {
        "colab": {},
        "colab_type": "code",
        "id": "3El9g_GXYayN",
        "trusted": true,
        "_uuid": "c902470f1c4c7ca9b8a9f330a312f7869c646e73"
      },
      "cell_type": "code",
      "source": "def splitTrainTest(data,percent):\n    total=len(data)\n    trainTotal=int(total*percent*0.01)\n    testTotal=total-trainTotal\n    return (data[0:trainTotal],data[trainTotal:total])",
      "execution_count": 2,
      "outputs": []
    },
    {
      "metadata": {
        "_uuid": "d412f765569938aaf02b03aace0c70f774c95960"
      },
      "cell_type": "markdown",
      "source": "### Layer Class\nThis class's object represent the layers in neural network. It stores the number of neurons in each layers, activations, activation function associated with each layer and their weight vector (initialize on gaussian distribute with mean =0 and std deviation=1)."
    },
    {
      "metadata": {
        "colab": {},
        "colab_type": "code",
        "id": "5q_LrpcRa4sm",
        "trusted": true,
        "_uuid": "296710bb41c7f337c77f17726e26c77c4c04e2c0"
      },
      "cell_type": "code",
      "source": "class Layer:\n    def __init__(self,nNodesCurrent, nNodesNext, activationF):\n        self.nodesNo=nNodesCurrent\n        self.activations = np.zeros([nNodesCurrent,1])\n        self.activationF=activationF\n        if nNodesNext==0:\n            self.weights=None\n        else:\n            self.weights=np.random.normal(0, 1, size=(nNodesCurrent,nNodesNext))",
      "execution_count": 3,
      "outputs": []
    },
    {
      "metadata": {
        "_uuid": "56465628011c10a40ed62d4b7dc9603b334d7664"
      },
      "cell_type": "markdown",
      "source": "### Neural Network Class\nClass of neural network to perform multiclass classification using the cross entropy as cost function and softmax as probabilty distribution activation function.\n\nThis class perform following tasks:\n* Initialized the number of layers in neural network and create **Layer Class** object.\n* Train the neural network on batches of inputs there by performing the forward and backward propogation using below helper methods.\n\n#### Methods:\n1. **Forward Propogation** : Perform the forward propogation, calculate and stores activations at each of the \nlayer.\n$$ z_1= w_1^TX $$\n$$ a_1= f _1(z_1) $$\n$$ z_2= w_2^Ta_1 $$\n$$ \\hat{y}= a_2= f_2(z_2) $$\n2. **Calculate Error** : Here we calculate the cross entropy error of our neural network on the updated activations. This updation in activation take place after the updation of weights in gradient decent algorithm in backpropogation.\n<br>\nFor multiclass classification we use the below cross entropy cost function:\n$$ J =  -\\sum\\limits_{i} y \\log \\; \\hat{y} $$\n3. **Backward Propogation** : Here, we differentiate the cost function to minimize it, and find the optimal values of parameters ie weights at each of the layer.\n$$\\frac{\\partial J}{\\partial w_2 } =  \\frac{\\partial J}{\\partial \\hat{y} }  * \\frac{\\partial \\hat{y}}{\\partial z_2 }  * \\frac{\\partial z_2}{\\partial w_2 }   $$\n<br>\nalso for cross entropy as a cost function and softmax as $f_2(z_2)$ , \n$$ \\delta_3  =  \\frac{\\partial J}{\\partial \\hat{y} }  * \\frac{\\partial \\hat{y}}{\\partial z_2 } = (y_p - y_a)  $$\n<br>\n$$ \\therefore   \\frac{\\partial J}{\\partial w_2 }= (\\hat{y} - y) * a_1$$\n<br><br>\nSimilarly to calculate parital derivative w.r.t weights of inner layers, we can use the chain rule\n$$   \\frac{\\partial J}{\\partial w_1 } = x^T *  \\delta_3 *  w_2 *  f^1 (z_1)      $$\n\n4. **Get Accuracy**: This function will return the accuracy of our neural network on multiclass classification.\n\n<hr>\n\n**Some important activations functions and their derivatives used in our network**\n**Softmax**\n<br>\n$$\\sigma (z)_j = \\frac{e^{z_j}}{\\sum^K_{k=1} e^{z_j}}$$\n**Sigmoid**\n<br>\n$$sigmoid(x) = \\frac{1}{1+\\epsilon ^ {-x}}$$\n$$\\frac{\\partial sigmoid(x)}{\\partial x} = sigmoid(x) * ( 1- sigmoid(x))$$\n\n**Relu**\n<br>\n$$relu(x) = \\max{(0,x)}$$\n<br>\n$$\\frac{\\partial relu(x)}{\\partial x} = 1 \\;\\;\\;\\; if x>0  \\\\ 0 \\;\\;\\; elsewhere$$\n\n**tanh**\n<br>\n$$tanh(x) = \\tanh{(x)}$$\n<br>\n$$\\frac{\\partial tanh(x)}{\\partial x} = 1 - \\tanh^2{(x)}$$"
    },
    {
      "metadata": {
        "colab": {},
        "colab_type": "code",
        "id": "foJcY9UbkqRp",
        "trusted": true,
        "_uuid": "e17771a8b78f252040509525f72dd6c69605adb8"
      },
      "cell_type": "code",
      "source": "class NeuralNet:\n    def __init__(self, totalLayers, noNodesList, activationFunctions):\n        self.totalLayers=totalLayers\n        self.noNodesList=noNodesList\n        self.layers = []\n        for i in range(totalLayers):\n            currentLayerNodes=noNodesList[i]\n            if i!=totalLayers-1:\n                nextLayerNodes=noNodesList[i+1]\n                ith_Layer=Layer(currentLayerNodes,nextLayerNodes,activationFunctions[i])\n            else:\n                ith_Layer=Layer(currentLayerNodes,0,activationFunctions[i])\n            self.layers.append(ith_Layer)#append output layer as none\n\n    def trainNetwork(self, data,outputLabels, batchSize, epochs, learningRate,notforGraph=True):\n        self.learningRate=learningRate\n        self.batchSize=batchSize;\n        \n        #normalize data\n#         data=((data-data.min(axis=0))/(data.max(axis=0)-data.min(axis=0)))\n#         data=data/255\n        \n        for x in range(epochs):\n            i=0  \n            while i<len(data):\n                self.error=0\n                self.forwardPropo(data[i:i+batchSize])#input\n                self.calculateError(outputLabels[i:i+batchSize])#output\n                self.backwardPropo(outputLabels[i:i+batchSize])\n                i+=batchSize\n            self.error /= batchSize\n            if notforGraph:\n                print(\"Epoch \",x,\"->Error: \", self.error)\n        if notforGraph==False:\n            print(self.error)\n            return self.error\n        \n          \n    def forwardPropo(self, inputs):\n        self.layers[0].activations =inputs\n        for i in range(self.totalLayers-1):\n            temp=np.matmul(self.layers[i].activations,self.layers[i].weights)  \n            if self.layers[i+1].activationF == \"sigmoid\":\n                self.layers[i+1].activations = self.sigmoid(temp)\n            elif self.layers[i+1].activationF == \"softmax\":\n                self.layers[i+1].activations = self.softmax(temp)\n            elif self.layers[i+1].activationF == \"relu\":\n                self.layers[i+1].activations = self.relu(temp)\n            elif self.layers[i+1].activationF == \"tanh\":\n                self.layers[i+1].activations = self.tanh(temp)\n            else:\n                self.layers[i+1].activations = temp\n        \n    def calculateError(self,labels):\n        if len(labels[0]) != self.layers[self.totalLayers-1].nodesNo:\n            print (\"Error: Label is not of the same shape as output layer.\")\n            print(\"Label: \", len(labels), \" : \", len(labels[0]))\n            print(\"Out: \", len(self.layers[self.totalLayers-1].activations), \" : \", len(self.layers[self.totalLayers-1].activations[0]))\n            return\n        self.error += np.negative(np.sum(np.multiply(labels, np.log(self.layers[self.totalLayers-1].activations))))\n    \n    def backwardPropo(self, labels):\n        targets = labels\n        i = self.totalLayers-1\n        y = self.layers[i].activations\n        \n        delta=(y-targets)\n        deltaw = np.dot(self.layers[i-1].activations.T, delta)/self.batchSize\n        new_weights = self.layers[i-1].weights - self.learningRate * deltaw\n        for i in range(i-1, 0, -1):\n            if self.layers[i].activationF==\"sigmoid\":\n                prime= self.sigmoid_derivative(np.matmul(self.layers[i-1].activations,self.layers[i-1].weights))\n            elif self.layers[i].activationF==\"relu\":\n                prime= self.relu_derivative(np.matmul(self.layers[i-1].activations,self.layers[i-1].weights))\n            elif self.layers[i].activationF==\"tanh\":\n                prime= self.tanh_derivative(np.matmul(self.layers[i-1].activations,self.layers[i-1].weights))\n            \n            delta=np.multiply(prime,delta.dot(self.layers[i].weights.T))\n            deltaw = np.dot(self.layers[i-1].activations.T, delta)/self.batchSize\n\n            self.layers[i].weights = new_weights\n            new_weights = self.layers[i-1].weights - self.learningRate * deltaw\n        self.layers[0].weights = new_weights\n    \n    def predict(self,inputs):\n#         inputs=inputs/255\n        self.batchSize = len(inputs)\n        self.forwardPropo(inputs)\n        a = self.layers[self.totalLayers-1].activations\n        predictions=[]\n        actuals=[]\n        for i in range(len(a)):\n            al=a[i].tolist()\n            predictions.append(al.index(max(al)))\n#             actuals.append(labels[i])\n        \n        a = np.array(predictions)\n#         b = np.array(actuals)\n#         df = pd.DataFrame({\"predictions\" : a, \"actuals\" : b})\n        df = pd.DataFrame({\"predictions\" : a})\n#         df.to_csv(\"predictions.csv\", index=False)\n        return self.create_download_link(df)\n\n        \n    def getAccuracy(self, inputs, labels, forGraph=False):\n#         inputs=inputs/255\n        self.batchSize = len(inputs)\n        self.forwardPropo(inputs)\n        a = self.layers[self.totalLayers-1].activations\n#         print(len(a))\n        total=0\n        correct=0\n        for i in range(len(a)):\n            total += 1\n            al = a[i].tolist()\n            if labels[i][al.index(max(al))] == 1:\n                correct += 1\n#         print(correct)\n        accuracy=correct*100/total\n        print(\"Accuracy: \", accuracy)\n        if forGraph:\n            return accuracy\n    \n    def sigmoid(self, x):\n        return np.divide(1, np.add(1, np.exp(np.negative(x))))\n    \n    def sigmoid_derivative(self,x):\n        return (self.sigmoid(x)*(1-self.sigmoid(x)))\n    \n    def relu(self, x):\n        return (x/700) * (x > 0)\n    \n    def relu_derivative(self,X):\n        return 1. * (X > 0)\n    \n    def softmax(self, x):\n        exp = np.exp(x)\n        if isinstance(x[0], np.ndarray):\n            return exp/np.sum(exp, axis=1, keepdims=True)\n        else:\n            return exp/np.sum(exp, keepdims=True)\n\n    def tanh(self, x):\n        return np.tanh(x)\n    \n    def tanh_derivative(self,x):\n        return 1.0 - np.tanh(x) ** 2\n    \n    def create_download_link(self,df, title = \"Download CSV file\", filename = \"predictions.csv\"):  \n        csv = df.to_csv()\n        b64 = base64.b64encode(csv.encode())\n        payload = b64.decode()\n        html = '<a download=\"{filename}\" href=\"data:text/csv;base64,{payload}\" target=\"_blank\">{title}</a>'\n        html = html.format(payload=payload,title=title,filename=filename)\n        return HTML(html)",
      "execution_count": 47,
      "outputs": []
    },
    {
      "metadata": {
        "trusted": true,
        "_uuid": "f382776340b5b2ceb8352f6cd8511ad0835d8a1e"
      },
      "cell_type": "code",
      "source": "def getOneHotLabels(data,k):\n    one_hot_labels = np.zeros((len(data), k))\n    for i in range(len(data)):  \n        one_hot_labels[i,data[i,0]] = 1\n    return one_hot_labels",
      "execution_count": 5,
      "outputs": []
    },
    {
      "metadata": {
        "colab": {},
        "colab_type": "code",
        "id": "SQ5KUVammIaS",
        "trusted": true,
        "_uuid": "29bb65a597a19af437582c16d930790b7a792a83"
      },
      "cell_type": "code",
      "source": "data=pd.read_csv(\"../input/assignment5/apparel-trainval.csv\").values\n# testdata=pd.read_csv(\"../input/fashionmnist/fashion-mnist_test.csv\").values\ntestdata=pd.read_csv(\"../input/appareltesting/apparel-test.csv\").values",
      "execution_count": 44,
      "outputs": []
    },
    {
      "metadata": {
        "_uuid": "c1c1d1ec4f2f78ad27a9de4a66a4a1d185177d29"
      },
      "cell_type": "markdown",
      "source": "### Question-1 Part-2"
    },
    {
      "metadata": {
        "_uuid": "c1bc2859e42d7b0ed0315189773705eca5611969"
      },
      "cell_type": "markdown",
      "source": "**Sigmoid**"
    },
    {
      "metadata": {
        "colab": {},
        "colab_type": "code",
        "id": "Ievzm6hptydg",
        "trusted": true,
        "_uuid": "55c624c07d44df9d4ae46f7c997f640163305b64"
      },
      "cell_type": "code",
      "source": "train,test=splitTrainTest(data,80)\noneHotLabelsTrain=getOneHotLabels(train,10)\noneHotLabelsTest=getOneHotLabels(test,10)\ntrainInputs=train[:,1:]\ntestInputs=test[:,1:]\nprint(\"Neural network with sigmoid activation function in hidden layers\")\n\nnumberofLayers=4\nnoofneurons=[784,16,16,10]\nactivationFunctions=[None,\"sigmoid\",\"sigmoid\",\"softmax\"]\nbatchSize=64\nepochs=50\nlearningRat=0.6\ntrainInputs=trainInputs/255\ntestInputs=testInputs/255\n\n#NeuralNet(noLayers, noNeurons in each layer, activationFunctions)\nnn=NeuralNet(numberofLayers,noofneurons,activationFunctions)\nnn.trainNetwork(trainInputs,oneHotLabelsTrain,batchSize,epochs,learningRat)\nnn.getAccuracy( testInputs, oneHotLabelsTest)",
      "execution_count": 46,
      "outputs": [
        {
          "output_type": "stream",
          "text": "Neural network with sigmoid activation function in hidden layers\nEpoch  0 ->Error:  0.7653560727112056\nEpoch  1 ->Error:  0.6322987829578448\nEpoch  2 ->Error:  0.5834848192662432\nEpoch  3 ->Error:  0.5432173515868918\nEpoch  4 ->Error:  0.499665450954071\nEpoch  5 ->Error:  0.4462451950105618\nEpoch  6 ->Error:  0.4313582014199258\nEpoch  7 ->Error:  0.42238813931749397\nEpoch  8 ->Error:  0.41548275819946284\nEpoch  9 ->Error:  0.4046116391763186\nEpoch  10 ->Error:  0.3911782845210542\nEpoch  11 ->Error:  0.37566405356400523\nEpoch  12 ->Error:  0.363880922372683\nEpoch  13 ->Error:  0.35634752824963994\nEpoch  14 ->Error:  0.3481750479245461\nEpoch  15 ->Error:  0.33866664984813344\nEpoch  16 ->Error:  0.32911120407312877\nEpoch  17 ->Error:  0.3204789813573341\nEpoch  18 ->Error:  0.3138262379915813\nEpoch  19 ->Error:  0.30880376715429614\nEpoch  20 ->Error:  0.3048431970966675\nEpoch  21 ->Error:  0.3018142230818448\nEpoch  22 ->Error:  0.29966210596370185\nEpoch  23 ->Error:  0.29844604881116404\nEpoch  24 ->Error:  0.29856191185329994\nEpoch  25 ->Error:  0.29909796401228106\nEpoch  26 ->Error:  0.2993456497211713\nEpoch  27 ->Error:  0.2978724762117412\nEpoch  28 ->Error:  0.2949444884984752\nEpoch  29 ->Error:  0.2914823272176865\nEpoch  30 ->Error:  0.28828617354193786\nEpoch  31 ->Error:  0.28457810925230953\nEpoch  32 ->Error:  0.2824282066803147\nEpoch  33 ->Error:  0.27987247228791845\nEpoch  34 ->Error:  0.27703674853280924\nEpoch  35 ->Error:  0.2743066066595926\nEpoch  36 ->Error:  0.2706962778539292\nEpoch  37 ->Error:  0.2667599345600741\nEpoch  38 ->Error:  0.2628503928870219\nEpoch  39 ->Error:  0.25925039319542276\nEpoch  40 ->Error:  0.2559480916179522\nEpoch  41 ->Error:  0.2526104914413182\nEpoch  42 ->Error:  0.2494021102248585\nEpoch  43 ->Error:  0.24652140121302918\nEpoch  44 ->Error:  0.24347821459680774\nEpoch  45 ->Error:  0.2405044936641434\nEpoch  46 ->Error:  0.23785829291188137\nEpoch  47 ->Error:  0.23556302681532368\nEpoch  48 ->Error:  0.23348185492050524\nEpoch  49 ->Error:  0.23244700430992332\nAccuracy:  84.49166666666666\n",
          "name": "stdout"
        }
      ]
    },
    {
      "metadata": {
        "_uuid": "49acb05f48981d1aa92fd24dc9797019ad2adc9d"
      },
      "cell_type": "markdown",
      "source": "**ReLU**"
    },
    {
      "metadata": {
        "colab": {},
        "colab_type": "code",
        "id": "Ievzm6hptydg",
        "trusted": true,
        "_uuid": "55c624c07d44df9d4ae46f7c997f640163305b64",
        "scrolled": false
      },
      "cell_type": "code",
      "source": "train,test=splitTrainTest(data,80)\noneHotLabelsTrain=getOneHotLabels(train,10)\noneHotLabelsTest=getOneHotLabels(test,10)\ntrainInputs=train[:,1:]\ntestInputs=test[:,1:]\n\n# testUnseen=testdata#this is input as well\n\nprint(\"Neural network with reLU activation function in hidden layers\")\n\nnumberofLayers=4\nnoofneurons=[784,16,16,10]\nactivationFunctions=[None,\"relu\",\"relu\",\"softmax\"]\nbatchSize=64\nepochs=50\nlearningRat=0.6\ntrainInputs=trainInputs/255\ntestInputs=testInputs/255\n# testUnseen=testUnseen/255\n\n#NeuralNet(noLayers, noNeurons in each layer, activationFunctions)\nnn=NeuralNet(numberofLayers,noofneurons,activationFunctions)\n\nnn.trainNetwork(trainInputs,oneHotLabelsTrain,batchSize,epochs,learningRat)\n\nnn.getAccuracy( testInputs, oneHotLabelsTest)\n# nn.predict(testUnseen)\n",
      "execution_count": 48,
      "outputs": [
        {
          "output_type": "stream",
          "text": "Neural network with reLU activation function in hidden layers\nEpoch  0 ->Error:  0.48261267442601213\nEpoch  1 ->Error:  0.32973840008221966\nEpoch  2 ->Error:  0.292184736067002\nEpoch  3 ->Error:  0.27362624399509233\nEpoch  4 ->Error:  0.26864889007580034\nEpoch  5 ->Error:  0.2696503073593122\nEpoch  6 ->Error:  0.27344642167218836\nEpoch  7 ->Error:  0.2814378942228182\nEpoch  8 ->Error:  0.2626993220983243\nEpoch  9 ->Error:  0.25942208188853555\nEpoch  10 ->Error:  0.24643638089892367\nEpoch  11 ->Error:  0.2414481157012983\nEpoch  12 ->Error:  0.23208872750234547\nEpoch  13 ->Error:  0.23651015484987986\nEpoch  14 ->Error:  0.2303462499778317\nEpoch  15 ->Error:  0.23158521224552642\nEpoch  16 ->Error:  0.22980344526017188\nEpoch  17 ->Error:  0.22622479866004042\nEpoch  18 ->Error:  0.22087336988877088\nEpoch  19 ->Error:  0.21764570094816005\nEpoch  20 ->Error:  0.2071338903449631\nEpoch  21 ->Error:  0.20306002506573356\nEpoch  22 ->Error:  0.20457852028815332\nEpoch  23 ->Error:  0.2040165323019378\nEpoch  24 ->Error:  0.20176788296846965\nEpoch  25 ->Error:  0.19628137612225888\nEpoch  26 ->Error:  0.19629021920251347\nEpoch  27 ->Error:  0.19154860195010434\nEpoch  28 ->Error:  0.19868598107754465\nEpoch  29 ->Error:  0.19438418527013063\nEpoch  30 ->Error:  0.19223092981695494\nEpoch  31 ->Error:  0.19010019521326837\nEpoch  32 ->Error:  0.1955028304781033\nEpoch  33 ->Error:  0.19294726444840207\nEpoch  34 ->Error:  0.19243824189116387\nEpoch  35 ->Error:  0.19168521442254555\nEpoch  36 ->Error:  0.19373267620712128\nEpoch  37 ->Error:  0.19784308241457454\nEpoch  38 ->Error:  0.1981817358203662\nEpoch  39 ->Error:  0.18978207167545535\nEpoch  40 ->Error:  0.19094747649881239\nEpoch  41 ->Error:  0.19371821239956152\nEpoch  42 ->Error:  0.18316426026044974\nEpoch  43 ->Error:  0.17911021318029258\nEpoch  44 ->Error:  0.18261775571257777\nEpoch  45 ->Error:  0.18131114519983027\nEpoch  46 ->Error:  0.1831063662425311\nEpoch  47 ->Error:  0.18686613405775757\nEpoch  48 ->Error:  0.18355194235383152\nEpoch  49 ->Error:  0.1839798623994035\nAccuracy:  86.38333333333334\n",
          "name": "stdout"
        }
      ]
    },
    {
      "metadata": {
        "_uuid": "9ccdbe974cf8b9644a04fd700dced65302c64f1d"
      },
      "cell_type": "markdown",
      "source": "**Tanh**"
    },
    {
      "metadata": {
        "colab": {},
        "colab_type": "code",
        "id": "Ievzm6hptydg",
        "trusted": true,
        "_uuid": "55c624c07d44df9d4ae46f7c997f640163305b64",
        "scrolled": false
      },
      "cell_type": "code",
      "source": "train,test=splitTrainTest(data,80)\noneHotLabelsTrain=getOneHotLabels(train,10)\noneHotLabelsTest=getOneHotLabels(test,10)\ntrainInputs=train[:,1:]\ntestInputs=test[:,1:]\nprint(\"Neural network with tanh activation function in hidden layers\")\n\nnumberofLayers=4\nnoofneurons=[784,16,16,10]\nactivationFunctions=[None,\"tanh\",\"tanh\",\"softmax\"]\nbatchSize=64\nepochs=50\nlearningRat=0.3\ntrainInputs=trainInputs/255\ntestInputs=testInputs/255\n\n\n#NeuralNet(noLayers, noNeurons in each layer, activationFunctions)\nnn=NeuralNet(numberofLayers,noofneurons,activationFunctions)\nnn.trainNetwork(trainInputs,oneHotLabelsTrain,batchSize,epochs,learningRat)\nnn.getAccuracy( testInputs, oneHotLabelsTest)",
      "execution_count": null,
      "outputs": []
    },
    {
      "metadata": {
        "trusted": true,
        "_uuid": "009118e7f3e0922109fb5daebe69e05e0b882e7b"
      },
      "cell_type": "code",
      "source": "def errorPlot():\n    data=pd.read_csv(\"../input/assignment5/apparel-trainval.csv\").values\n    sigmoidError=[]\n    reluError=[]\n    tanhError=[]\n    xlist=[i for i in range(1,56)]\n    train,test=splitTrainTest(data,80)\n    oneHotLabelsTrain=getOneHotLabels(train,10)\n    oneHotLabelsTest=getOneHotLabels(test,10)\n    trainInputs=train[:,1:]\n    testInputs=test[:,1:]\n    \n    trainInputs=trainInputs/255\n    testInputs=testInputs/255\n    \n\n    numberofLayers=4\n    noofneurons=[784,16,16,10]\n    activationFunctionsRelu=[None,\"relu\",\"relu\",\"softmax\"]\n    activationFunctionsSigmoid=[None,\"sigmoid\",\"sigmoid\",\"softmax\"]\n    activationFunctionsTanh=[None,\"tanh\",\"tanh\",\"softmax\"]\n    batchSize=64\n    \n    for i in xlist:\n        print(i)\n        nnSigmoid=NeuralNet(numberofLayers,noofneurons,activationFunctionsSigmoid)\n        nnRelu=NeuralNet(numberofLayers,noofneurons,activationFunctionsRelu)\n        nnTanh=NeuralNet(numberofLayers,noofneurons,activationFunctionsTanh)\n        \n        nnSigmoid.trainNetwork(trainInputs,oneHotLabelsTrain,batchSize,i,0.1,False)\n        nnRelu.trainNetwork(trainInputs,oneHotLabelsTrain,batchSize,i,0.1,False)\n        nnTanh.trainNetwork(trainInputs,oneHotLabelsTrain,batchSize,i,0.1,False)\n        \n        sigmoidError.append(nnSigmoid.getAccuracy(testInputs, oneHotLabelsTest,True))\n        reluError.append(nnRelu.getAccuracy(testInputs, oneHotLabelsTest,True))\n        tanhError.append(nnTanh.getAccuracy(testInputs, oneHotLabelsTest,True))\n        \n    plt.title(\"Errors vs epocs\")\n    plt.xlabel(\"Epochs\")\n    plt.ylabel(\"Accuracy\")\n    plt.grid(True)\n#     print(xlist,reluError,sigmoidError,tanhError)\n    plt.plot(xlist,reluError ,color=\"green\", linewidth=2.5,label=\"ReLU\")\n    plt.plot(xlist,tanhError,color=\"orange\", linewidth=2.5,label=\"Tanh\")\n    plt.plot(xlist, sigmoidError,color=\"m\", linewidth=2.5,label=\"Sigmoid\")\n\n    plt.legend(loc=3)\n    plt.show()",
      "execution_count": null,
      "outputs": []
    },
    {
      "metadata": {
        "trusted": true,
        "_uuid": "193ce135b2c898d19489b23b29fc1fdc23aee1ba",
        "scrolled": false
      },
      "cell_type": "code",
      "source": "errorPlot()",
      "execution_count": null,
      "outputs": []
    },
    {
      "metadata": {
        "trusted": true,
        "_uuid": "4676627fd19e7fa68692c1d06a847dd00422ae08"
      },
      "cell_type": "code",
      "source": "def layersPlot():\n    data=pd.read_csv(\"../input/assignment5/apparel-trainval.csv\").values\n    sigmoidError=[]\n    reluError=[]\n    tanhError=[]\n    xlist=[i for i in range(0,6)]\n    train,test=splitTrainTest(data,80)#train on 80% data\n    oneHotLabelsTrain=getOneHotLabels(train,10)#10 is vector size\n    oneHotLabelsTest=getOneHotLabels(test,10)\n    trainInputs=train[:,1:]\n    testInputs=test[:,1:]\n    \n    trainInputs=trainInputs/255\n    testInputs=testInputs/255\n    epochs=50\n    batchSize=64\n    \n    for i in xlist:\n        print(i)\n        numberofLayers=2+i\n        \n        noofneurons=[784]+[16]*i+[10]\n        activationFunctionsRelu=[None]+[\"relu\"]*i+[\"softmax\"]\n        activationFunctionsSigmoid=[None]+[\"sigmoid\"]*i+[\"softmax\"]\n        activationFunctionsTanh=[None]+[\"tanh\"]*i+[\"softmax\"]\n#         print(noofneurons,activationFunctionsRelu,numberofLayers)\n        nnSigmoid=NeuralNet(numberofLayers,noofneurons,activationFunctionsSigmoid)\n        nnRelu=NeuralNet(numberofLayers,noofneurons,activationFunctionsRelu)\n        nnTanh=NeuralNet(numberofLayers,noofneurons,activationFunctionsTanh)\n        \n        sigmoidError.append(nnSigmoid.trainNetwork(trainInputs,oneHotLabelsTrain,batchSize,epochs,0.6,False))\n        reluError.append(nnRelu.trainNetwork(trainInputs,oneHotLabelsTrain,batchSize,epochs,0.6,False))\n        tanhError.append(nnTanh.trainNetwork(trainInputs,oneHotLabelsTrain,batchSize,epochs,0.3,False))\n        \n#         sigmoidError.append(nnSigmoid.getAccuracy(testInputs, oneHotLabelsTest,True))\n#         reluError.append(nnRelu.getAccuracy(testInputs, oneHotLabelsTest,True))\n#         tanhError.append(nnTanh.getAccuracy(testInputs, oneHotLabelsTest,True))\n        \n    plt.title(\"Loss vs Number of layers\")\n    plt.xlabel(\"Hidden Layers (each with 16 neurons)\")\n    plt.ylabel(\"Loss (Cross Entropy)\")\n    plt.grid(True)\n#     print(xlist,reluError,sigmoidError,tanhError)\n    plt.plot(xlist,reluError ,color=\"green\", linewidth=2.5,label=\"ReLU\")\n    plt.plot(xlist,tanhError,color=\"orange\", linewidth=2.5,label=\"Tanh\")\n    plt.plot(xlist, sigmoidError,color=\"m\", linewidth=2.5,label=\"Sigmoid\")\n\n    plt.legend(loc=0)\n    plt.show()",
      "execution_count": 51,
      "outputs": []
    },
    {
      "metadata": {
        "trusted": true,
        "_uuid": "8df610b7c589bba37b6f05013e052a7a1df65830",
        "scrolled": false
      },
      "cell_type": "code",
      "source": "layersPlot()",
      "execution_count": 52,
      "outputs": [
        {
          "output_type": "stream",
          "text": "0\n0.5348684872705193\n0.5628134244739061\n0.4345390376868731\n1\n0.21450192349389996\n0.18364702417222656\n0.3037814465497284\n2\n0.28905382970074733\n0.20467435564651204\n0.2830050305891012\n3\n0.2791354516734865\n2.3025850929940455\n0.28329594421342547\n4\n0.33478208445313673\n",
          "name": "stdout"
        },
        {
          "output_type": "stream",
          "text": "/opt/conda/lib/python3.6/site-packages/ipykernel_launcher.py:137: RuntimeWarning: overflow encountered in exp\n/opt/conda/lib/python3.6/site-packages/ipykernel_launcher.py:139: RuntimeWarning: invalid value encountered in true_divide\n/opt/conda/lib/python3.6/site-packages/ipykernel_launcher.py:60: RuntimeWarning: divide by zero encountered in log\n/opt/conda/lib/python3.6/site-packages/ipykernel_launcher.py:60: RuntimeWarning: invalid value encountered in multiply\n/opt/conda/lib/python3.6/site-packages/ipykernel_launcher.py:131: RuntimeWarning: invalid value encountered in greater\n/opt/conda/lib/python3.6/site-packages/ipykernel_launcher.py:134: RuntimeWarning: invalid value encountered in greater\n",
          "name": "stderr"
        },
        {
          "output_type": "stream",
          "text": "nan\n0.5287228970072051\n5\n0.2574763538053355\nnan\n0.5555518429107476\n",
          "name": "stdout"
        },
        {
          "output_type": "display_data",
          "data": {
            "text/plain": "<Figure size 432x288 with 1 Axes>",
            "image/png": "[encoded data removed]"
          },
          "metadata": {}
        }
      ]
    },
    {
      "metadata": {
        "trusted": true,
        "_uuid": "4f6f3b0084f424b1af570797daf2b42f10de58b6"
      },
      "cell_type": "code",
      "source": "",
      "execution_count": null,
      "outputs": []
    }
  ],
  "metadata": {
    "colab": {
      "collapsed_sections": [],
      "name": "Ass5.ipynb",
      "provenance": [],
      "version": "0.3.2"
    },
    "kernelspec": {
      "display_name": "Python 3",
      "language": "python",
      "name": "python3"
    },
    "language_info": {
      "name": "python",
      "version": "3.6.6",
      "mimetype": "text/x-python",
      "codemirror_mode": {
        "name": "ipython",
        "version": 3
      },
      "pygments_lexer": "ipython3",
      "nbconvert_exporter": "python",
      "file_extension": ".py"
    }
  },
  "nbformat": 4,
  "nbformat_minor": 1
}